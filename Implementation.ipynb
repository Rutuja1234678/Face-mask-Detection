{
 "cells": [
  {
   "cell_type": "code",
   "execution_count": 5,
   "id": "1bdbaa0b-4845-4f7a-b3ac-360b0b340fb5",
   "metadata": {},
   "outputs": [],
   "source": [
    "#Kaggle dataset\n",
    "#https://www.kaggle.com/datasets/omkargurav/face-mask-dataset?resource=download"
   ]
  },
  {
   "cell_type": "code",
   "execution_count": 6,
   "id": "024c2e69-e837-4c2f-86ea-0b70a54385c4",
   "metadata": {},
   "outputs": [],
   "source": [
    "#Import libraries\n",
    "import numpy as np\n",
    "import pandas as pd\n",
    "import tensorflow as tf\n",
    "from tensorflow import keras\n",
    "import warnings\n",
    "warnings.filterwarnings('ignore')"
   ]
  },
  {
   "cell_type": "code",
   "execution_count": 7,
   "id": "b1eeccf7-3430-4174-9f8a-27dfb98ce2a5",
   "metadata": {},
   "outputs": [],
   "source": [
    "#Defining path\n",
    "train_dir = 'data/'#2 classes - with_mast, without_mask"
   ]
  },
  {
   "cell_type": "code",
   "execution_count": 8,
   "id": "38cc6aac-2f0f-44fb-b8c1-e80933a1cbd8",
   "metadata": {},
   "outputs": [
    {
     "name": "stdout",
     "output_type": "stream",
     "text": [
      "Found 6046 images belonging to 3 classes.\n",
      "Found 1510 images belonging to 3 classes.\n"
     ]
    }
   ],
   "source": [
    "from tensorflow.keras.preprocessing.image import ImageDataGenerator\n",
    "\n",
    "train_gen = ImageDataGenerator(\n",
    "    rescale=1./255,\n",
    "    validation_split=0.2,\n",
    "    rotation_range=20,\n",
    "    zoom_range=0.2,\n",
    "    horizontal_flip=True\n",
    ")\n",
    "\n",
    "#Traing data object\n",
    "train_data = train_gen.flow_from_directory(\n",
    "    train_dir,\n",
    "    target_size=(150, 150),\n",
    "    batch_size=32,\n",
    "    class_mode='binary',\n",
    "    subset='training'\n",
    ")\n",
    "\n",
    "#Validation data object\n",
    "val_data = train_gen.flow_from_directory(\n",
    "    train_dir,\n",
    "    target_size=(150, 150),\n",
    "    batch_size=32,\n",
    "    class_mode='binary',\n",
    "    subset='validation'\n",
    ")"
   ]
  },
  {
   "cell_type": "code",
   "execution_count": null,
   "id": "a0980586-560e-4a0e-a884-88d1b4efeeeb",
   "metadata": {},
   "outputs": [
    {
     "name": "stdout",
     "output_type": "stream",
     "text": [
      "Epoch 1/10\n",
      "\u001b[1m 97/189\u001b[0m \u001b[32m━━━━━━━━━━\u001b[0m\u001b[37m━━━━━━━━━━\u001b[0m \u001b[1m1:15\u001b[0m 825ms/step - accuracy: 0.4965 - loss: -5593668.0000"
     ]
    }
   ],
   "source": [
    "#Build model\n",
    "from tensorflow.keras.models import Sequential\n",
    "from tensorflow.keras.layers import Conv2D, MaxPooling2D, Flatten, Dense, Dropout\n",
    "\n",
    "model = Sequential([\n",
    "    Conv2D(32, (3, 3), activation='relu', input_shape=(150, 150, 3)),\n",
    "    MaxPooling2D(2, 2),\n",
    "\n",
    "    Conv2D(64, (3, 3), activation='relu'),\n",
    "    MaxPooling2D(2, 2),\n",
    "\n",
    "    Conv2D(128, (3, 3), activation='relu'),\n",
    "    MaxPooling2D(2, 2),\n",
    "\n",
    "    Flatten(),\n",
    "    Dense(128, activation='relu'),\n",
    "    Dropout(0.5),\n",
    "    Dense(1, activation='sigmoid')  # binary classification\n",
    "])\n",
    "\n",
    "#Model compile\n",
    "model.compile(optimizer='adam', loss='binary_crossentropy',metrics=['accuracy'])\n",
    "#Training\n",
    "history = model.fit(train_data, epochs = 10, validation_data = val_data)"
   ]
  },
  {
   "cell_type": "code",
   "execution_count": null,
   "id": "1041f66b-a558-4ceb-99c4-ef6aa04b137e",
   "metadata": {},
   "outputs": [],
   "source": [
    "from tensorflow.keras.preprocessing import image\n",
    "img_path = 'sample.jpeg'\n",
    "img = image.load_img(img_path, target_size=(150, 150))\n",
    "img_array = image.img_to_array(img) / 255.0\n",
    "img_array = np.expand_dims(img_array, axis=0)\n",
    "prediction = model.predict(img_array)\n",
    "if prediction[0][0] > 0.5:\n",
    "    print(\"Prediction: Without Mask 😷\")\n",
    "else:\n",
    "    print(\"Prediction: With Mask ✅\")"
   ]
  },
  {
   "cell_type": "code",
   "execution_count": null,
   "id": "102192f0-111f-4ec5-9ee6-e946660c65cf",
   "metadata": {},
   "outputs": [],
   "source": [
    "model.save(\"project.keras\")"
   ]
  }
 ],
 "metadata": {
  "kernelspec": {
   "display_name": "python 3.10(TensorFlow)",
   "language": "python",
   "name": "tf310"
  },
  "language_info": {
   "codemirror_mode": {
    "name": "ipython",
    "version": 3
   },
   "file_extension": ".py",
   "mimetype": "text/x-python",
   "name": "python",
   "nbconvert_exporter": "python",
   "pygments_lexer": "ipython3",
   "version": "3.12.7"
  }
 },
 "nbformat": 4,
 "nbformat_minor": 5
}
